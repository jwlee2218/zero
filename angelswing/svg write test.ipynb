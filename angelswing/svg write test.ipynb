{
 "cells": [
  {
   "cell_type": "code",
   "execution_count": null,
   "metadata": {},
   "outputs": [],
   "source": [
    "f = open('success1.svg', 'w+')\n",
    "f.write('<?xml version=\"1.0\" encoding=\"utf-8\"?>')\n",
    "f.write('<svg version=\"1.0\" id=\"Layer_1\" width=\"'+str(width)+'\" height=\"'+str(height)+'\" xmlns=\"http://www.w3.org/2000/svg\" xml:space=\"preserve\">')\n",
    "f.write('<path d=\"')\n",
    "\n",
    "for i in range(len(contours3)):\n",
    "    f.write('M')\n",
    "    for j in range(len(contours3[i])):\n",
    "        x,y = contours3[i][j][0]\n",
    "        f.write(str(x)+  ' ' + str(y)+' ')\n",
    "    f.write('Z'+' ')\n",
    "\n",
    "f.write('\"/>')\n",
    "f.write('</svg>')\n",
    "f.close()"
   ]
  }
 ],
 "metadata": {
  "kernelspec": {
   "display_name": "Python 3",
   "language": "python",
   "name": "python3"
  },
  "language_info": {
   "codemirror_mode": {
    "name": "ipython",
    "version": 3
   },
   "file_extension": ".py",
   "mimetype": "text/x-python",
   "name": "python",
   "nbconvert_exporter": "python",
   "pygments_lexer": "ipython3",
   "version": "3.5.2"
  }
 },
 "nbformat": 4,
 "nbformat_minor": 2
}
