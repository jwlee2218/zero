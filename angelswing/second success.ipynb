{
 "cells": [
  {
   "cell_type": "code",
   "execution_count": 1,
   "metadata": {},
   "outputs": [],
   "source": [
    "import numpy as np\n",
    "import cv2\n",
    "from matplotlib import pyplot as plt"
   ]
  },
  {
   "cell_type": "code",
   "execution_count": 47,
   "metadata": {},
   "outputs": [
    {
     "data": {
      "text/plain": [
       "True"
      ]
     },
     "execution_count": 47,
     "metadata": {},
     "output_type": "execute_result"
    }
   ],
   "source": [
    "img= cv2.imread('test 01.tif')\n",
    "canny = cv2.Canny(img,30,70)\n",
    "height=img.shape[0]\n",
    "width=img.shape[1]\n",
    "\n",
    "cv2.imwrite('canny.jpg',canny)\n",
    "\n",
    "#Edge detection with canny function of opencv"
   ]
  },
  {
   "cell_type": "code",
   "execution_count": 48,
   "metadata": {},
   "outputs": [],
   "source": [
    "ret, thresh = cv2.threshold(canny,127,255,0)\n",
    "image, contours, hierachy = cv2.findContours(thresh, cv2.RETR_TREE,cv2.CHAIN_APPROX_SIMPLE)\n",
    "#Find contours of the edges"
   ]
  },
  {
   "cell_type": "code",
   "execution_count": 53,
   "metadata": {},
   "outputs": [],
   "source": [
    "f = open('second success.svg', 'w+')\n",
    "f.write('<?xml version=\"1.0\" encoding=\"utf-8\"?>')\n",
    "f.write('<svg version=\"1.0\" id=\"Layer_1\" width=\"'+str(width)+'\" height=\"'+str(height)+'\" xmlns=\"http://www.w3.org/2000/svg\" xml:space=\"preserve\">')\n",
    "\n",
    "for i in range(len(contours)):\n",
    "    f.write('<path d= \"M')\n",
    "    for j in range(len(contours[i])):\n",
    "        x,y = contours[i][j][0]\n",
    "        f.write(str(x)+  ' ' + str(y)+' ')\n",
    "    f.write('\" style=\"fill:none;stroke:black;stroke-width:1\"/>')\n",
    "        \n",
    "f.write('</svg>')\n",
    "f.close()\n",
    "#Vectorized with strokes and managed to leave only the edges"
   ]
  },
  {
   "cell_type": "code",
   "execution_count": null,
   "metadata": {},
   "outputs": [],
   "source": []
  }
 ],
 "metadata": {
  "kernelspec": {
   "display_name": "Python 3",
   "language": "python",
   "name": "python3"
  },
  "language_info": {
   "codemirror_mode": {
    "name": "ipython",
    "version": 3
   },
   "file_extension": ".py",
   "mimetype": "text/x-python",
   "name": "python",
   "nbconvert_exporter": "python",
   "pygments_lexer": "ipython3",
   "version": "3.5.2"
  }
 },
 "nbformat": 4,
 "nbformat_minor": 2
}
