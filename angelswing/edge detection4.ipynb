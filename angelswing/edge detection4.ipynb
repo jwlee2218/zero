{
 "cells": [
  {
   "cell_type": "code",
   "execution_count": 1,
   "metadata": {},
   "outputs": [],
   "source": [
    "import numpy as np\n",
    "import cv2\n",
    "from matplotlib import pyplot as plt"
   ]
  },
  {
   "cell_type": "code",
   "execution_count": 7,
   "metadata": {},
   "outputs": [],
   "source": [
    "img= cv2.imread('test 01.tif')\n",
    "canny = cv2.Canny(img,30,70)\n",
    "\n",
    "cv2.imshow('image',canny)\n",
    "cv2.waitKey(0)\n",
    "cv2.destroyAllWindows()\n",
    "# imgray = cv2.cvtColor(img,cv2.COLOR_BGR2GRAY)\n"
   ]
  },
  {
   "cell_type": "code",
   "execution_count": 6,
   "metadata": {},
   "outputs": [],
   "source": [
    "ret, thresh = cv2.threshold(canny,127,255,0)\n",
    "image, contours, hierachy = cv2.findContours(thresh, cv2.RETR_TREE,cv2.CHAIN_APPROX_SIMPLE)\n",
    "# image = cv2.drawContours(img, contours, -1, (255,0,0), 5)\n",
    "height=img.shape[0]\n",
    "width=img.shape[1]\n",
    "blank=np.zeros((height,width,3),np.uint8)\n",
    "image2 = cv2.drawContours(blank, contours, -1, (255,0,0), 2)\n",
    "\n",
    "cv2.imshow('image',image2)\n",
    "cv2.waitKey(0)\n",
    "cv2.destroyAllWindows()\n"
   ]
  },
  {
   "cell_type": "code",
   "execution_count": 68,
   "metadata": {},
   "outputs": [],
   "source": [
    "blank=np.zeros((height,width,3),np.uint8)\n",
    "canny2 = cv2.Canny(image2,30,70)\n",
    "ret2,thresh2 = cv2.threshold(canny2,127,255,0)\n",
    "im2, contours2, hierachy2 = cv2.findContours(thresh2, cv2.RETR_TREE,cv2.CHAIN_APPROX_SIMPLE)\n",
    "image3 = cv2.drawContours(blank, contours2, -1, (255,0,0), 3)\n",
    "# cv2.imshow('image',image3)\n",
    "# cv2.waitKey(0)\n",
    "# cv2.destroyAllWindows()\n",
    "\n"
   ]
  },
  {
   "cell_type": "code",
   "execution_count": 69,
   "metadata": {},
   "outputs": [],
   "source": [
    "imgray = cv2.cvtColor(image2,cv2.COLOR_RGB2GRAY)\n",
    "(thresh, im_bw) = cv2.threshold(imgray, 128, 255, cv2.THRESH_BINARY | cv2.THRESH_OTSU)\n",
    "im3, contours3, hierarchy3 = cv2.findContours(im_bw,cv2.RETR_TREE,cv2.CHAIN_APPROX_SIMPLE)\n",
    "\n",
    "# cv2.imshow('image',im_bw)\n",
    "# cv2.waitKey(0)\n",
    "# cv2.destroyAllWindows()"
   ]
  },
  {
   "cell_type": "code",
   "execution_count": 70,
   "metadata": {},
   "outputs": [],
   "source": []
  },
  {
   "cell_type": "code",
   "execution_count": null,
   "metadata": {},
   "outputs": [],
   "source": []
  }
 ],
 "metadata": {
  "kernelspec": {
   "display_name": "Python 3",
   "language": "python",
   "name": "python3"
  },
  "language_info": {
   "codemirror_mode": {
    "name": "ipython",
    "version": 3
   },
   "file_extension": ".py",
   "mimetype": "text/x-python",
   "name": "python",
   "nbconvert_exporter": "python",
   "pygments_lexer": "ipython3",
   "version": "3.5.2"
  }
 },
 "nbformat": 4,
 "nbformat_minor": 2
}
