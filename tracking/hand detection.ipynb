{
 "cells": [
  {
   "cell_type": "code",
   "execution_count": 3,
   "metadata": {},
   "outputs": [
    {
     "name": "stdout",
     "output_type": "stream",
     "text": [
      "!!!Background Captured!!!\n",
      "!!!Reset BackGround!!!\n",
      "!!!Background Captured!!!\n",
      "!!!Trigger On!!!\n"
     ]
    }
   ],
   "source": [
    "\n",
    "import cv2\n",
    "import numpy as np\n",
    "import copy\n",
    "import math\n",
    "# from tkinter import *\n",
    "\n",
    "# Environment:\n",
    "# OS    : Mac OS EL Capitan\n",
    "# python: 3.5\n",
    "# opencv: 2.4.13\n",
    "\n",
    "# parameters\n",
    "cap_region_x_begin=0.5  # start point/total width\n",
    "cap_region_y_end=0.8  # start point/total width\n",
    "threshold = 60  #  BINARY threshold\n",
    "blurValue = 41  # GaussianBlur parameter\n",
    "bgSubThreshold = 50\n",
    "learningRate = 0\n",
    "\n",
    "# variables\n",
    "isBgCaptured = 0   # bool, whether the background captured\n",
    "triggerSwitch = False  # if true, keyborad simulator works\n",
    "\n",
    "def printThreshold(thr):\n",
    "    print(\"! Changed threshold to \"+str(thr))\n",
    "\n",
    "\n",
    "def removeBG(frame):\n",
    "    fgmask = bgModel.apply(frame,learningRate=learningRate)\n",
    "    # kernel = cv2.getStructuringElement(cv2.MORPH_ELLIPSE, (3, 3))\n",
    "    # res = cv2.morphologyEx(fgmask, cv2.MORPH_OPEN, kernel)\n",
    "\n",
    "    kernel = np.ones((3, 3), np.uint8)\n",
    "    fgmask = cv2.erode(fgmask, kernel, iterations=1)\n",
    "    res = cv2.bitwise_and(frame, frame, mask=fgmask)\n",
    "    return res\n",
    "\n",
    "\n",
    "def calculateFingers(res,drawing):  # -> finished bool, cnt: finger count\n",
    "    #  convexity defect\n",
    "    hull = cv2.convexHull(res, returnPoints=False)\n",
    "    if len(hull) > 3:\n",
    "        defects = cv2.convexityDefects(res, hull)\n",
    "        if type(defects) != type(None):  # avoid crashing.   (BUG not found)\n",
    "\n",
    "            cnt = 0\n",
    "            for i in range(defects.shape[0]):  # calculate the angle\n",
    "                s, e, f, d = defects[i][0]\n",
    "                start = tuple(res[s][0])\n",
    "                end = tuple(res[e][0])\n",
    "                far = tuple(res[f][0])\n",
    "                a = math.sqrt((end[0] - start[0]) ** 2 + (end[1] - start[1]) ** 2)\n",
    "                b = math.sqrt((far[0] - start[0]) ** 2 + (far[1] - start[1]) ** 2)\n",
    "                c = math.sqrt((end[0] - far[0]) ** 2 + (end[1] - far[1]) ** 2)\n",
    "                angle = math.acos((b ** 2 + c ** 2 - a ** 2) / (2 * b * c))  # cosine theorem\n",
    "                if angle <= math.pi / 2:  # angle less than 90 degree, treat as fingers\n",
    "                    cnt += 1\n",
    "                    cv2.circle(drawing, far, 8, [211, 84, 0], -1)\n",
    "            return True, cnt\n",
    "    return False, 0\n",
    "\n",
    "\n",
    "# Camera\n",
    "camera = cv2.VideoCapture(0)\n",
    "camera.set(10,200)\n",
    "cv2.namedWindow('trackbar')\n",
    "cv2.createTrackbar('trh1', 'trackbar', threshold, 100, printThreshold)\n",
    "\n",
    "\n",
    "while camera.isOpened():\n",
    "    ret, frame = camera.read()\n",
    "    threshold = cv2.getTrackbarPos('trh1', 'trackbar')\n",
    "    frame = cv2.bilateralFilter(frame, 5, 50, 100)  # smoothing filter\n",
    "    frame = cv2.flip(frame, 1)  # flip the frame horizontally\n",
    "    cv2.rectangle(frame, (int(cap_region_x_begin * frame.shape[1]), 0),\n",
    "                 (frame.shape[1], int(cap_region_y_end * frame.shape[0])), (255, 0, 0), 2)\n",
    "    cv2.imshow('original', frame)\n",
    "\n",
    "    #  Main operation\n",
    "    if isBgCaptured == 1:  # this part wont run until background captured\n",
    "        img = removeBG(frame)\n",
    "        img = img[0:int(cap_region_y_end * frame.shape[0]),\n",
    "                    int(cap_region_x_begin * frame.shape[1]):frame.shape[1]]  # clip the ROI\n",
    "        cv2.imshow('mask', img)\n",
    "\n",
    "        # convert the image into binary image\n",
    "        gray = cv2.cvtColor(img, cv2.COLOR_BGR2GRAY)\n",
    "        blur = cv2.GaussianBlur(gray, (blurValue, blurValue), 0)\n",
    "        cv2.imshow('blur', blur)\n",
    "        ret, thresh = cv2.threshold(blur, threshold, 255, cv2.THRESH_BINARY)\n",
    "        cv2.imshow('ori', thresh)\n",
    "\n",
    "\n",
    "        # get the coutours\n",
    "        thresh1 = copy.deepcopy(thresh)\n",
    "        _,contours, hierarchy = cv2.findContours(thresh1, cv2.RETR_TREE, cv2.CHAIN_APPROX_SIMPLE)\n",
    "        length = len(contours)\n",
    "        maxArea = -1\n",
    "        if length > 0:\n",
    "            for i in range(length):  # find the biggest contour (according to area)\n",
    "                temp = contours[i]\n",
    "                area = cv2.contourArea(temp)\n",
    "                if area > maxArea:\n",
    "                    maxArea = area\n",
    "                    ci = i\n",
    "\n",
    "            res = contours[ci]\n",
    "            hull = cv2.convexHull(res)\n",
    "            drawing = np.zeros(img.shape, np.uint8)\n",
    "            cv2.drawContours(drawing, [res], 0, (0, 255, 0), 2)\n",
    "            cv2.drawContours(drawing, [hull], 0, (0, 0, 255), 3)\n",
    "\n",
    "            isFinishCal,cnt = calculateFingers(res,drawing)\n",
    "            if triggerSwitch is True:\n",
    "                if isFinishCal is True and cnt <= 2:\n",
    "                    print (cnt)\n",
    "                    #app('System Events').keystroke(' ')  # simulate pressing blank space\n",
    "                    \n",
    "        cv2.imshow('output', drawing)\n",
    "\n",
    "    # Keyboard OP\n",
    "    k = cv2.waitKey(1)\n",
    "    if k == 27:  # press ESC to exit\n",
    "        break\n",
    "    elif k == ord('b'):  # press 'b' to capture the background\n",
    "        bgModel = cv2.createBackgroundSubtractorMOG2(0, bgSubThreshold)\n",
    "        isBgCaptured = 1\n",
    "        print( '!!!Background Captured!!!')\n",
    "    elif k == ord('r'):  # press 'r' to reset the background\n",
    "        bgModel = None\n",
    "        triggerSwitch = False\n",
    "        isBgCaptured = 0\n",
    "        print ('!!!Reset BackGround!!!')\n",
    "    elif k == ord('n'):\n",
    "        triggerSwitch = True\n",
    "print ('!!!Trigger On!!!')\n",
    "cv2.destroyAllWindows()\n",
    "camera.release()"
   ]
  },
  {
   "cell_type": "markdown",
   "metadata": {},
   "source": []
  },
  {
   "cell_type": "code",
   "execution_count": 7,
   "metadata": {},
   "outputs": [
    {
     "ename": "NameError",
     "evalue": "name 'far' is not defined",
     "output_type": "error",
     "traceback": [
      "\u001b[0;31m---------------------------------------------------------------------------\u001b[0m",
      "\u001b[0;31mNameError\u001b[0m                                 Traceback (most recent call last)",
      "\u001b[0;32m<ipython-input-7-67814b53be66>\u001b[0m in \u001b[0;36m<module>\u001b[0;34m()\u001b[0m\n\u001b[0;32m----> 1\u001b[0;31m \u001b[0mprint\u001b[0m\u001b[0;34m(\u001b[0m\u001b[0mfar\u001b[0m\u001b[0;34m)\u001b[0m\u001b[0;34m\u001b[0m\u001b[0m\n\u001b[0m",
      "\u001b[0;31mNameError\u001b[0m: name 'far' is not defined"
     ]
    }
   ],
   "source": [
    "print(far)"
   ]
  },
  {
   "cell_type": "code",
   "execution_count": 4,
   "metadata": {},
   "outputs": [],
   "source": [
    "from matplotlib import pyplot as plt"
   ]
  },
  {
   "cell_type": "code",
   "execution_count": 7,
   "metadata": {},
   "outputs": [
    {
     "ename": "NameError",
     "evalue": "name 'fgmask' is not defined",
     "output_type": "error",
     "traceback": [
      "\u001b[0;31m---------------------------------------------------------------------------\u001b[0m",
      "\u001b[0;31mNameError\u001b[0m                                 Traceback (most recent call last)",
      "\u001b[0;32m<ipython-input-7-89a6d1287916>\u001b[0m in \u001b[0;36m<module>\u001b[0;34m()\u001b[0m\n\u001b[0;32m----> 1\u001b[0;31m \u001b[0mplt\u001b[0m\u001b[0;34m.\u001b[0m\u001b[0mimshow\u001b[0m\u001b[0;34m(\u001b[0m\u001b[0mfgmask\u001b[0m\u001b[0;34m)\u001b[0m\u001b[0;34m\u001b[0m\u001b[0m\n\u001b[0m",
      "\u001b[0;31mNameError\u001b[0m: name 'fgmask' is not defined"
     ]
    }
   ],
   "source": [
    "plt.imshow(fgmask)"
   ]
  },
  {
   "cell_type": "code",
   "execution_count": null,
   "metadata": {},
   "outputs": [],
   "source": []
  }
 ],
 "metadata": {
  "kernelspec": {
   "display_name": "Python 3",
   "language": "python",
   "name": "python3"
  },
  "language_info": {
   "codemirror_mode": {
    "name": "ipython",
    "version": 3
   },
   "file_extension": ".py",
   "mimetype": "text/x-python",
   "name": "python",
   "nbconvert_exporter": "python",
   "pygments_lexer": "ipython3",
   "version": "3.5.2"
  }
 },
 "nbformat": 4,
 "nbformat_minor": 2
}
