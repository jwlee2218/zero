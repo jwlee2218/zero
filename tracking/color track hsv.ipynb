{
 "cells": [
  {
   "cell_type": "code",
   "execution_count": 1,
   "metadata": {},
   "outputs": [],
   "source": [
    "import numpy as np\n",
    "import argparse\n",
    "import cv2\n",
    "import copy\n",
    "from pymouse import PyMouse\n",
    "from math import hypot\n",
    "from matplotlib import pyplot as plt\n",
    "\n",
    "\n",
    "m = PyMouse()\n",
    "cap = cv2.VideoCapture(0)\n",
    "\n",
    "# define the list of boundaries\n",
    "boundaries = [\n",
    "# \t([17, 15, 100], [50, 56, 200]), #RED\n",
    "\t([110, 50, 50], [130, 255, 255]), #BLUE\n",
    "# \t([25, 146, 190], [62, 174, 250]), #YELLOW\n",
    "# \t([103, 86, 65], [145, 133, 128]) #GRAY\n",
    "]\n",
    "    # loop over the boundaries\n",
    "[(lower, upper)]= boundaries\n",
    "        # create NumPy arrays from the boundaries\n",
    "lower = np.array(lower, dtype = \"uint8\")\n",
    "upper = np.array(upper, dtype = \"uint8\")\n",
    "\n",
    "boundred = [([0,100, 100], [10, 255, 255])]\n",
    "[(lowered, uppered)]= boundred\n",
    "lowered = np.array(lowered, dtype = \"uint8\")\n",
    "uppered = np.array(uppered, dtype = \"uint8\")\n",
    "\n",
    "kernel = np.ones((15,15), np.uint8)\n",
    "contours_ = []\n",
    "contoured_ = []\n",
    "center = []\n",
    "\n",
    "while True:\n",
    "    _, frame = cap.read()\n",
    "\n",
    "    frame = cv2.flip(frame, 1)\n",
    "    shot = copy.deepcopy(frame)\n",
    "        # find the colors within the specified boundaries and apply\n",
    "        # the mask\n",
    "    shot = cv2.cvtColor(shot,cv2.COLOR_BGR2HSV) \n",
    "\n",
    "    mask = cv2.inRange(shot, lower, upper)\n",
    "    maskred  = cv2.inRange(shot,lowered, uppered)\n",
    "#     output = cv2.bitwise_and(frame, frame, mask = mask)\n",
    "\n",
    "    img_dilation = cv2.dilate(mask, kernel, iterations=1)\n",
    "    img_dilationred = cv2.dilate(maskred, kernel, iterations=1)\n",
    "    \n",
    "    img_erosion = cv2.erode(img_dilation, kernel, iterations=1)\n",
    "    img_erosionred = cv2.erode(img_dilationred, kernel, iterations=1)\n",
    "    \n",
    "    imgray = img_erosion\n",
    "    imgrayred = img_erosionred\n",
    "    \n",
    "    ret,thresh = cv2.threshold(imgray,10,255,0)\n",
    "    retred, threshred = cv2.threshold(imgrayred,10,255,0)\n",
    "    \n",
    "    im2, contours, hierarchy = cv2.findContours(thresh,cv2.RETR_TREE,cv2.CHAIN_APPROX_SIMPLE)\n",
    "    im3, contoured, hierared = cv2.findContours(threshred,cv2.RETR_TREE,cv2.CHAIN_APPROX_SIMPLE)\n",
    "\n",
    "    for pic,c in enumerate(contours):\n",
    "        if cv2.contourArea(c) >= 500:\n",
    "            x,y,w,h = cv2.boundingRect(c)\n",
    "            bluecenterx = x+int(w/2)\n",
    "            bluecentery = y+int(h/2)\n",
    "            frame = cv2.circle(frame, (x+int(w/2),y+int(h/2)),5,(255,0,0),2)\n",
    "#             m.move(x*3,int(y*2.25))\n",
    "    \n",
    "    for pid, d in enumerate(contoured):\n",
    "        if cv2.contourArea(d) >= 500:\n",
    "            q,w,e,r = cv2.boundingRect(d)\n",
    "            redcenterx = q+int(e/2)\n",
    "            redcentery = w+int(r/2)\n",
    "            frame = cv2.circle(frame, (q+int(e/2),w+int(r/2)),5,(0,0,255),2)\n",
    "#             if bluecenterx:\n",
    "#                 if hypot(bluecenterx-redcenterx,bluecentery-redcentery)<=70:\n",
    "#                     m.click(x*3,int(y*2.25),1)\n",
    "            \n",
    "    # show the images\n",
    "#     cv2.drawContours(frame, contours_, -1, (0,255,0), 3)\n",
    "#     frame=cv2.cvtColor(frame, cv2.COLOR_HSV2RGB)\n",
    "    cv2.imshow(\"Reds\", frame)\n",
    "    Key= cv2.waitKey(1)\n",
    "    if Key == 27:\n",
    "        break\n",
    "\n",
    "\n",
    "cap.release()\n",
    "cv2.destroyAllWindows()\n"
   ]
  },
  {
   "cell_type": "code",
   "execution_count": 16,
   "metadata": {},
   "outputs": [
    {
     "data": {
      "text/plain": [
       "<matplotlib.image.AxesImage at 0x7f727dff91d0>"
      ]
     },
     "execution_count": 16,
     "metadata": {},
     "output_type": "execute_result"
    },
    {
     "data": {
      "image/png": "[encoded data removed]",
      "text/plain": [
       "<Figure size 432x288 with 1 Axes>"
      ]
     },
     "metadata": {},
     "output_type": "display_data"
    }
   ],
   "source": [
    "plt.imshow(imgray)"
   ]
  },
  {
   "cell_type": "code",
   "execution_count": null,
   "metadata": {},
   "outputs": [],
   "source": []
  }
 ],
 "metadata": {
  "kernelspec": {
   "display_name": "Python 3",
   "language": "python",
   "name": "python3"
  },
  "language_info": {
   "codemirror_mode": {
    "name": "ipython",
    "version": 3
   },
   "file_extension": ".py",
   "mimetype": "text/x-python",
   "name": "python",
   "nbconvert_exporter": "python",
   "pygments_lexer": "ipython3",
   "version": "3.5.2"
  }
 },
 "nbformat": 4,
 "nbformat_minor": 2
}
