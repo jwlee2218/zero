{
 "cells": [
  {
   "cell_type": "code",
   "execution_count": 1,
   "metadata": {},
   "outputs": [],
   "source": [
    "import numpy as np\n",
    "import argparse\n",
    "import cv2\n",
    "import copy\n",
    "from pymouse import PyMouse\n",
    "from math import hypot\n",
    "\n",
    "m = PyMouse()\n",
    "cap = cv2.VideoCapture(0)\n",
    "\n",
    "# define the list of boundaries\n",
    "boundaries = [\n",
    "# \t([17, 15, 100], [50, 56, 200]), #RED\n",
    "\t([86, 31, 4], [220, 88, 50]), #BLUE\n",
    "# \t([25, 146, 190], [62, 174, 250]), #YELLOW\n",
    "# \t([103, 86, 65], [145, 133, 128]) #GRAY\n",
    "]\n",
    "    # loop over the boundaries\n",
    "[(lower, upper)]= boundaries\n",
    "        # create NumPy arrays from the boundaries\n",
    "lower = np.array(lower, dtype = \"uint8\")\n",
    "upper = np.array(upper, dtype = \"uint8\")\n",
    "\n",
    "boundred = [([17, 15, 100], [120, 60, 200])]\n",
    "[(lowered, uppered)]= boundred\n",
    "lowered = np.array(lowered, dtype = \"uint8\")\n",
    "uppered = np.array(uppered, dtype = \"uint8\")\n",
    "\n",
    "kernel = np.ones((15,15), np.uint8)\n",
    "contours_ = []\n",
    "contoured_ = []\n",
    "center = []\n",
    "\n",
    "while True:\n",
    "    _, frame = cap.read()\n",
    "\n",
    "    frame = cv2.flip(frame, 1)\n",
    "    shot = copy.deepcopy(frame)\n",
    "        # find the colors within the specified boundaries and apply\n",
    "        # the mask\n",
    "    mask = cv2.inRange(shot, lower, upper)\n",
    "    maskred  = cv2.inRange(shot,lowered, uppered)\n",
    "#     output = cv2.bitwise_and(frame, frame, mask = mask)\n",
    "\n",
    "    img_dilation = cv2.dilate(mask, kernel, iterations=1)\n",
    "    img_dilationred = cv2.dilate(maskred, kernel, iterations=1)\n",
    "    \n",
    "    img_erosion = cv2.erode(img_dilation, kernel, iterations=1)\n",
    "    img_erosionred = cv2.erode(img_dilationred, kernel, iterations=1)\n",
    "    \n",
    "    imgray = img_erosion\n",
    "    imgrayred = img_erosionred\n",
    "    \n",
    "    ret,thresh = cv2.threshold(imgray,10,255,0)\n",
    "    retred, threshred = cv2.threshold(imgrayred,10,255,0)\n",
    "    \n",
    "    im2, contours, hierarchy = cv2.findContours(thresh,cv2.RETR_TREE,cv2.CHAIN_APPROX_SIMPLE)\n",
    "    im3, contoured, hierared = cv2.findContours(threshred,cv2.RETR_TREE,cv2.CHAIN_APPROX_SIMPLE)\n",
    "\n",
    "    for c in contours:\n",
    "        if cv2.contourArea(c) >= 500:\n",
    "            contours_.append(c)\n",
    "            \n",
    "    for d in contoured:\n",
    "        if cv2.contourArea(d) >= 500:\n",
    "            contoured_.append(d)\n",
    "    \n",
    "    length = len(contours_)\n",
    "    lengthred = len(contoured_)\n",
    "    \n",
    "    points = np.array(contours_)\n",
    "    pointred = np.array(contoured_)\n",
    "    \n",
    "    if length:\n",
    "        for i in range(0, length):\n",
    "            frame2 = frame.copy()\n",
    "            x = int(np.mean(points[i][:,0,0]))\n",
    "            y = int(np.mean(points[i][:,0,1]))\n",
    "        cv2.circle(frame, (x, y),5,(255,0,0),2)\n",
    "#         cv2.circle(frame, (320,240),5,(255,0,0),2)\n",
    "        m.move(x*3,y*2)    \n",
    "        \n",
    "    if lengthred:\n",
    "        for i in range(0, lengthred):\n",
    "            w = int(np.mean(pointred[i][:,0,0]))\n",
    "            z = int(np.mean(pointred[i][:,0,1]))\n",
    "        cv2.circle(frame, (w, z),5,(0,0,255),2)\n",
    "    \n",
    "    if length:\n",
    "        if lengthred:\n",
    "            if hypot(x-w,y-z)<=70:\n",
    "                m.click(x*3,y*2,1)\n",
    "        \n",
    "    # show the images\n",
    "#     cv2.drawContours(frame, contours_, -1, (0,255,0), 3)\n",
    "    cv2.imshow(\"Reds\", frame)\n",
    "    Key= cv2.waitKey(1)\n",
    "    if Key == 27:\n",
    "        break\n",
    "\n",
    "\n",
    "cap.release()\n",
    "cv2.destroyAllWindows()\n"
   ]
  },
  {
   "cell_type": "code",
   "execution_count": null,
   "metadata": {},
   "outputs": [],
   "source": [
    "(x,y)"
   ]
  },
  {
   "cell_type": "code",
   "execution_count": null,
   "metadata": {},
   "outputs": [],
   "source": [
    "(w,z)"
   ]
  },
  {
   "cell_type": "code",
   "execution_count": null,
   "metadata": {},
   "outputs": [],
   "source": [
    "hypot(x - w, y - z)"
   ]
  },
  {
   "cell_type": "code",
   "execution_count": null,
   "metadata": {},
   "outputs": [],
   "source": [
    "from matplotlib import pyplot as plt\n",
    "plt.imshow(maskred)"
   ]
  },
  {
   "cell_type": "code",
   "execution_count": null,
   "metadata": {},
   "outputs": [],
   "source": [
    "frame.shape"
   ]
  },
  {
   "cell_type": "code",
   "execution_count": null,
   "metadata": {},
   "outputs": [],
   "source": [
    "lower"
   ]
  },
  {
   "cell_type": "code",
   "execution_count": null,
   "metadata": {},
   "outputs": [],
   "source": [
    "from matplotlib import pyplot as plt\n",
    "plt.imshow(shot)"
   ]
  },
  {
   "cell_type": "code",
   "execution_count": null,
   "metadata": {},
   "outputs": [],
   "source": []
  }
 ],
 "metadata": {
  "kernelspec": {
   "display_name": "Python 3",
   "language": "python",
   "name": "python3"
  },
  "language_info": {
   "codemirror_mode": {
    "name": "ipython",
    "version": 3
   },
   "file_extension": ".py",
   "mimetype": "text/x-python",
   "name": "python",
   "nbconvert_exporter": "python",
   "pygments_lexer": "ipython3",
   "version": "3.5.2"
  }
 },
 "nbformat": 4,
 "nbformat_minor": 2
}
