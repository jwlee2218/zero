{
 "cells": [
  {
   "cell_type": "code",
   "execution_count": 8,
   "metadata": {},
   "outputs": [],
   "source": [
    "import numpy as np\n",
    "import argparse\n",
    "import cv2\n",
    "import copy\n",
    "from pymouse import PyMouse\n",
    "from math import hypot\n",
    "from matplotlib import pyplot as plt\n",
    "\n",
    "\n",
    "m = PyMouse()\n",
    "cap = cv2.VideoCapture(1)\n",
    "\n",
    "# define the list of boundaries\n",
    "boundaries = [\n",
    "# \t([17, 15, 100], [50, 56, 200]), #RED\n",
    "\t([86, 31, 4], [220, 88, 50]), #BLUE\n",
    "# \t([25, 146, 190], [62, 174, 250]), #YELLOW\n",
    "# \t([103, 86, 65], [145, 133, 128]) #GRAY\n",
    "]\n",
    "    # loop over the boundaries\n",
    "[(lower, upper)]= boundaries\n",
    "        # create NumPy arrays from the boundaries\n",
    "lower = np.array(lower, dtype = \"uint8\")\n",
    "upper = np.array(upper, dtype = \"uint8\")\n",
    "\n",
    "boundred = [([17, 15, 100], [120, 60, 200])]\n",
    "[(lowered, uppered)]= boundred\n",
    "lowered = np.array(lowered, dtype = \"uint8\")\n",
    "uppered = np.array(uppered, dtype = \"uint8\")\n",
    "\n",
    "kernel = np.ones((15,15), np.uint8)\n",
    "contours_ = []\n",
    "contoured_ = []\n",
    "center = []\n",
    "\n",
    "while True:\n",
    "    _, frame = cap.read()\n",
    "\n",
    "    frame = cv2.flip(frame, 1)\n",
    "    shot = copy.deepcopy(frame)\n",
    "        # find the colors within the specified boundaries and apply\n",
    "        # the mask\n",
    "    mask = cv2.inRange(shot, lower, upper)\n",
    "    maskred  = cv2.inRange(shot,lowered, uppered)\n",
    "#     output = cv2.bitwise_and(frame, frame, mask = mask)\n",
    "\n",
    "    img_dilation = cv2.dilate(mask, kernel, iterations=1)\n",
    "    img_dilationred = cv2.dilate(maskred, kernel, iterations=1)\n",
    "    \n",
    "    img_erosion = cv2.erode(img_dilation, kernel, iterations=1)\n",
    "    img_erosionred = cv2.erode(img_dilationred, kernel, iterations=1)\n",
    "    \n",
    "    imgray = img_erosion\n",
    "    imgrayred = img_erosionred\n",
    "    \n",
    "    ret,thresh = cv2.threshold(imgray,10,255,0)\n",
    "    retred, threshred = cv2.threshold(imgrayred,10,255,0)\n",
    "    \n",
    "    im2, contours, hierarchy = cv2.findContours(thresh,cv2.RETR_TREE,cv2.CHAIN_APPROX_SIMPLE)\n",
    "    im3, contoured, hierared = cv2.findContours(threshred,cv2.RETR_TREE,cv2.CHAIN_APPROX_SIMPLE)\n",
    "\n",
    "    for pic,c in enumerate(contours):\n",
    "        if cv2.contourArea(c) >= 200:\n",
    "            x,y,w,h = cv2.boundingRect(c)\n",
    "            bluecenterx = x+int(w/2)\n",
    "            bluecentery = y+int(h/2)\n",
    "            frame = cv2.circle(frame, (x+int(w/2),y+int(h/2)),10,(255,0,0),5)\n",
    "#             m.move(x*3,int(y*2.25))\n",
    "    \n",
    "    for pid, d in enumerate(contoured):\n",
    "        if cv2.contourArea(d) >= 200:\n",
    "            q,w,e,r = cv2.boundingRect(d)\n",
    "            redcenterx = q+int(e/2)\n",
    "            redcentery = w+int(r/2)\n",
    "            frame = cv2.circle(frame, (q+int(e/2),w+int(r/2)),10,(0,0,255),5)\n",
    "#             if bluecenterx:\n",
    "#                 if hypot(bluecenterx-redcenterx,bluecentery-redcentery)<=70:\n",
    "#                     m.click(x*3,int(y*2.25),1)\n",
    "            \n",
    "#     for d in contoured:\n",
    "#         if cv2.contourArea(d) >= 500:\n",
    "#             contoured_.append(d)\n",
    "    \n",
    "#     length = len(contours_)\n",
    "#     lengthred = len(contoured_)\n",
    "    \n",
    "#     points = np.array(contours_)\n",
    "#     pointred = np.array(contoured_)\n",
    "    \n",
    "#     if length:\n",
    "#         for i in range(0, length):\n",
    "#             frame2 = frame.copy()\n",
    "#             x = int(np.mean(points[i][:,0,0]))\n",
    "#             y = int(np.mean(points[i][:,0,1]))\n",
    "#         cv2.circle(frame, (x, y),5,(255,0,0),2)\n",
    "# #         cv2.circle(frame, (320,240),5,(255,0,0),2)\n",
    "#         m.move(x*3,y*2)    \n",
    "        \n",
    "#     if lengthred:\n",
    "#         for i in range(0, lengthred):\n",
    "#             w = int(np.mean(pointred[i][:,0,0]))\n",
    "#             z = int(np.mean(pointred[i][:,0,1]))\n",
    "#         cv2.circle(frame, (w, z),5,(0,0,255),2)\n",
    "    \n",
    "#     if length:\n",
    "#         if lengthred:\n",
    "#             if hypot(x-w,y-z)<=70:\n",
    "#                 m.click(x*3,y*2,1)\n",
    "        \n",
    "    # show the images\n",
    "#     cv2.drawContours(frame, contours_, -1, (0,255,0), 3)\n",
    "    cv2.imshow(\"Reds\", frame)\n",
    "    Key= cv2.waitKey(1)\n",
    "    if Key == 27:\n",
    "        break\n",
    "\n",
    "\n",
    "cap.release()\n",
    "cv2.destroyAllWindows()\n"
   ]
  },
  {
   "cell_type": "code",
   "execution_count": 39,
   "metadata": {},
   "outputs": [
    {
     "data": {
      "text/plain": [
       "0.0"
      ]
     },
     "execution_count": 39,
     "metadata": {},
     "output_type": "execute_result"
    }
   ],
   "source": [
    "cv2.contourArea(c)"
   ]
  },
  {
   "cell_type": "code",
   "execution_count": 3,
   "metadata": {},
   "outputs": [
    {
     "data": {
      "text/plain": [
       "array([[[137, 147, 104],\n",
       "        [138, 148, 105],\n",
       "        [133, 147, 104],\n",
       "        ...,\n",
       "        [177, 192, 175],\n",
       "        [180, 192, 177],\n",
       "        [178, 190, 174]],\n",
       "\n",
       "       [[132, 148, 107],\n",
       "        [130, 146, 104],\n",
       "        [135, 149, 108],\n",
       "        ...,\n",
       "        [178, 190, 174],\n",
       "        [177, 192, 175],\n",
       "        [175, 189, 173]],\n",
       "\n",
       "       [[127, 147, 103],\n",
       "        [126, 146, 102],\n",
       "        [132, 145, 104],\n",
       "        ...,\n",
       "        [180, 192, 177],\n",
       "        [180, 192, 177],\n",
       "        [179, 191, 175]],\n",
       "\n",
       "       ...,\n",
       "\n",
       "       [[200, 184, 198],\n",
       "        [202, 186, 200],\n",
       "        [202, 186, 200],\n",
       "        ...,\n",
       "        [193, 185, 193],\n",
       "        [196, 179, 189],\n",
       "        [181, 164, 174]],\n",
       "\n",
       "       [[202, 186, 200],\n",
       "        [201, 185, 199],\n",
       "        [203, 184, 199],\n",
       "        ...,\n",
       "        [200, 190, 201],\n",
       "        [215, 186, 198],\n",
       "        [199, 170, 182]],\n",
       "\n",
       "       [[201, 188, 201],\n",
       "        [201, 188, 201],\n",
       "        [201, 185, 199],\n",
       "        ...,\n",
       "        [202, 190, 201],\n",
       "        [214, 190, 200],\n",
       "        [201, 177, 188]]], dtype=uint8)"
      ]
     },
     "execution_count": 3,
     "metadata": {},
     "output_type": "execute_result"
    }
   ],
   "source": [
    "frame"
   ]
  },
  {
   "cell_type": "code",
   "execution_count": 34,
   "metadata": {},
   "outputs": [
    {
     "data": {
      "text/plain": [
       "232"
      ]
     },
     "execution_count": 34,
     "metadata": {},
     "output_type": "execute_result"
    }
   ],
   "source": [
    "x"
   ]
  },
  {
   "cell_type": "code",
   "execution_count": 35,
   "metadata": {},
   "outputs": [
    {
     "data": {
      "text/plain": [
       "11"
      ]
     },
     "execution_count": 35,
     "metadata": {},
     "output_type": "execute_result"
    }
   ],
   "source": [
    "pic"
   ]
  },
  {
   "cell_type": "code",
   "execution_count": null,
   "metadata": {},
   "outputs": [],
   "source": []
  }
 ],
 "metadata": {
  "kernelspec": {
   "display_name": "Python 3",
   "language": "python",
   "name": "python3"
  },
  "language_info": {
   "codemirror_mode": {
    "name": "ipython",
    "version": 3
   },
   "file_extension": ".py",
   "mimetype": "text/x-python",
   "name": "python",
   "nbconvert_exporter": "python",
   "pygments_lexer": "ipython3",
   "version": "3.5.2"
  }
 },
 "nbformat": 4,
 "nbformat_minor": 2
}
