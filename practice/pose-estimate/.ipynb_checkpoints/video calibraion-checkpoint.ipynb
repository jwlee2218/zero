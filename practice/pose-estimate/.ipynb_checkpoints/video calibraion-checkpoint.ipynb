{
 "cells": [
  {
   "cell_type": "code",
   "execution_count": 1,
   "metadata": {},
   "outputs": [],
   "source": [
    "# import opencv module\n",
    "import cv2\n",
    "from matplotlib import pyplot as plt\n",
    "import numpy as np\n",
    "import copy\n",
    "\n",
    "# For interactive python:\n",
    "%matplotlib inline  "
   ]
  },
  {
   "cell_type": "code",
   "execution_count": 2,
   "metadata": {},
   "outputs": [],
   "source": [
    "# termination criteria\n",
    "criteria = (cv2.TERM_CRITERIA_EPS + cv2.TERM_CRITERIA_MAX_ITER, 30, 0.001)\n",
    "# prepare object points, like (0,0,0), (1,0,0), (2,0,0) ....,(6,5,0)\n",
    "\n",
    "objp = np.zeros((7*7,3), np.float32)\n",
    "objp[:,:2] = np.mgrid[0:7,0:7].T.reshape(-1,2)\n",
    "\n",
    "# Arrays to store object points and image points from all the images.\n",
    "objpoints = [] # 3d point in real world space\n",
    "imgpoints = [] # 2d points in image plane."
   ]
  },
  {
   "cell_type": "code",
   "execution_count": 3,
   "metadata": {},
   "outputs": [],
   "source": [
    "cap = cv2.VideoCapture('input.avi')\n",
    "fourcc = cv2.VideoWriter_fourcc(*'XVID')\n",
    "frame_width = int( cap.get(cv2.CAP_PROP_FRAME_WIDTH))\n",
    "frame_height =int( cap.get( cv2.CAP_PROP_FRAME_HEIGHT)) \n",
    "\n",
    "out = cv2.VideoWriter('output.avi', fourcc, 30.0,(frame_width,frame_height))"
   ]
  },
  {
   "cell_type": "code",
   "execution_count": 4,
   "metadata": {},
   "outputs": [],
   "source": [
    "while True:\n",
    "    success,frame = cap.read()\n",
    "    if success:     \n",
    "        gray = cv2.cvtColor(frame, cv2.COLOR_BGR2GRAY)\n",
    "        ret,corners = cv2.findChessboardCorners(gray, (7,7), None)\n",
    "        \n",
    "        objpoints.append(objp)\n",
    "\n",
    "        cv2.drawChessboardCorners(frame, (7,7), corners, ret)\n",
    "        \n",
    "        corners2 = cv2.cornerSubPix(gray,corners, (11,11), (-1,-1), criteria)\n",
    "        imgpoints.append(corners2)\n",
    "        \n",
    "        cv2.namedWindow('original', cv2.WINDOW_NORMAL)        \n",
    "        cv2.imshow('original', frame)\n",
    "        out.write(frame)\n",
    "        c=cv2.waitKey(1)\n",
    "        if c == 27:\n",
    "            break\n",
    "#         if cv2.waitKey(1) & 0xFF == ord('q'):\n",
    "#             break\n",
    "    else:\n",
    "        break\n",
    "\n",
    "cap.release()\n",
    "out.release()\n",
    "cv2.destroyAllWindows()"
   ]
  },
  {
   "cell_type": "code",
   "execution_count": null,
   "metadata": {},
   "outputs": [],
   "source": []
  },
  {
   "cell_type": "code",
   "execution_count": 5,
   "metadata": {},
   "outputs": [
    {
     "ename": "error",
     "evalue": "/home/jwlee2218/opencv/opencv-3.4.0/modules/calib3d/src/calibration.cpp:3093: error: (-215) ni == ni1 in function collectCalibrationData\n",
     "output_type": "error",
     "traceback": [
      "\u001b[0;31m---------------------------------------------------------------------------\u001b[0m",
      "\u001b[0;31merror\u001b[0m                                     Traceback (most recent call last)",
      "\u001b[0;32m<ipython-input-5-ef6b94f90520>\u001b[0m in \u001b[0;36m<module>\u001b[0;34m()\u001b[0m\n\u001b[0;32m----> 1\u001b[0;31m \u001b[0mret\u001b[0m\u001b[0;34m,\u001b[0m \u001b[0mmtx\u001b[0m\u001b[0;34m,\u001b[0m \u001b[0mdist\u001b[0m\u001b[0;34m,\u001b[0m \u001b[0mrvecs\u001b[0m\u001b[0;34m,\u001b[0m \u001b[0mtvecs\u001b[0m \u001b[0;34m=\u001b[0m \u001b[0mcv2\u001b[0m\u001b[0;34m.\u001b[0m\u001b[0mcalibrateCamera\u001b[0m\u001b[0;34m(\u001b[0m\u001b[0mobjpoints\u001b[0m\u001b[0;34m,\u001b[0m \u001b[0mimgpoints\u001b[0m\u001b[0;34m,\u001b[0m \u001b[0mgray\u001b[0m\u001b[0;34m.\u001b[0m\u001b[0mshape\u001b[0m\u001b[0;34m[\u001b[0m\u001b[0;34m:\u001b[0m\u001b[0;34m:\u001b[0m\u001b[0;34m-\u001b[0m\u001b[0;36m1\u001b[0m\u001b[0;34m]\u001b[0m\u001b[0;34m,\u001b[0m \u001b[0;32mNone\u001b[0m\u001b[0;34m,\u001b[0m \u001b[0;32mNone\u001b[0m\u001b[0;34m)\u001b[0m\u001b[0;34m\u001b[0m\u001b[0m\n\u001b[0m\u001b[1;32m      2\u001b[0m \u001b[0mnp\u001b[0m\u001b[0;34m.\u001b[0m\u001b[0msavez\u001b[0m\u001b[0;34m(\u001b[0m\u001b[0;34m'calib.npz'\u001b[0m\u001b[0;34m,\u001b[0m \u001b[0mmtx\u001b[0m\u001b[0;34m=\u001b[0m\u001b[0mmtx\u001b[0m\u001b[0;34m,\u001b[0m \u001b[0mdist\u001b[0m\u001b[0;34m=\u001b[0m\u001b[0mdist\u001b[0m\u001b[0;34m,\u001b[0m \u001b[0mrvecs\u001b[0m\u001b[0;34m=\u001b[0m\u001b[0mrvecs\u001b[0m\u001b[0;34m,\u001b[0m \u001b[0mtvecs\u001b[0m\u001b[0;34m=\u001b[0m\u001b[0mtvecs\u001b[0m\u001b[0;34m)\u001b[0m\u001b[0;34m\u001b[0m\u001b[0m\n",
      "\u001b[0;31merror\u001b[0m: /home/jwlee2218/opencv/opencv-3.4.0/modules/calib3d/src/calibration.cpp:3093: error: (-215) ni == ni1 in function collectCalibrationData\n"
     ]
    }
   ],
   "source": [
    "ret, mtx, dist, rvecs, tvecs = cv2.calibrateCamera(objpoints, imgpoints, gray.shape[::-1], None, None)\n",
    "np.savez('calib.npz', mtx=mtx, dist=dist, rvecs=rvecs, tvecs=tvecs)"
   ]
  },
  {
   "cell_type": "code",
   "execution_count": 58,
   "metadata": {},
   "outputs": [
    {
     "data": {
      "text/plain": [
       "1008"
      ]
     },
     "execution_count": 58,
     "metadata": {},
     "output_type": "execute_result"
    }
   ],
   "source": [
    "len(objpoints)"
   ]
  },
  {
   "cell_type": "code",
   "execution_count": 57,
   "metadata": {},
   "outputs": [
    {
     "name": "stdout",
     "output_type": "stream",
     "text": [
      "[[[200.76622 177.93155]]\n",
      "\n",
      " [[231.78857 179.50208]]\n",
      "\n",
      " [[262.83783 180.93816]]\n",
      "\n",
      " [[293.38147 182.46268]]\n",
      "\n",
      " [[323.6898  183.82178]]\n",
      "\n",
      " [[353.67828 185.31056]]\n",
      "\n",
      " [[383.43262 186.59204]]\n",
      "\n",
      " [[199.55975 207.79657]]\n",
      "\n",
      " [[230.93356 209.1871 ]]\n",
      "\n",
      " [[262.253   210.59154]]\n",
      "\n",
      " [[292.95267 211.79764]]\n",
      "\n",
      " [[323.46426 213.18767]]\n",
      "\n",
      " [[353.66144 214.42328]]\n",
      "\n",
      " [[383.6694  215.68103]]\n",
      "\n",
      " [[198.35478 238.17856]]\n",
      "\n",
      " [[230.09535 239.41185]]\n",
      "\n",
      " [[261.41425 240.50931]]\n",
      "\n",
      " [[292.50253 241.71678]]\n",
      "\n",
      " [[323.2798  242.8598 ]]\n",
      "\n",
      " [[353.71426 244.0084 ]]\n",
      "\n",
      " [[383.93552 245.12862]]\n",
      "\n",
      " [[197.14542 269.0491 ]]\n",
      "\n",
      " [[229.1352  270.04022]]\n",
      "\n",
      " [[260.71268 271.0745 ]]\n",
      "\n",
      " [[292.06125 272.06552]]\n",
      "\n",
      " [[323.0916  273.15375]]\n",
      "\n",
      " [[353.7571  274.12216]]\n",
      "\n",
      " [[384.25925 275.1342 ]]\n",
      "\n",
      " [[195.80432 300.33057]]\n",
      "\n",
      " [[228.13031 301.27335]]\n",
      "\n",
      " [[260.02725 302.07587]]\n",
      "\n",
      " [[291.60367 302.9861 ]]\n",
      "\n",
      " [[322.85825 303.86023]]\n",
      "\n",
      " [[353.8327  304.68472]]\n",
      "\n",
      " [[384.64148 305.55484]]\n",
      "\n",
      " [[194.51033 332.32974]]\n",
      "\n",
      " [[227.11475 332.90192]]\n",
      "\n",
      " [[259.3435  333.70337]]\n",
      "\n",
      " [[291.2026  334.40573]]\n",
      "\n",
      " [[322.73187 335.18002]]\n",
      "\n",
      " [[353.9962  335.87262]]\n",
      "\n",
      " [[384.96466 336.5624 ]]\n",
      "\n",
      " [[193.13794 364.7518 ]]\n",
      "\n",
      " [[226.13474 365.33572]]\n",
      "\n",
      " [[258.5929  365.84015]]\n",
      "\n",
      " [[290.73242 366.4339 ]]\n",
      "\n",
      " [[322.6054  366.96112]]\n",
      "\n",
      " [[354.19406 367.57233]]\n",
      "\n",
      " [[385.40485 368.12262]]]\n"
     ]
    }
   ],
   "source": [
    "print(corners2)"
   ]
  },
  {
   "cell_type": "code",
   "execution_count": null,
   "metadata": {},
   "outputs": [],
   "source": []
  }
 ],
 "metadata": {
  "kernelspec": {
   "display_name": "Python 3",
   "language": "python",
   "name": "python3"
  },
  "language_info": {
   "codemirror_mode": {
    "name": "ipython",
    "version": 3
   },
   "file_extension": ".py",
   "mimetype": "text/x-python",
   "name": "python",
   "nbconvert_exporter": "python",
   "pygments_lexer": "ipython3",
   "version": "3.5.2"
  }
 },
 "nbformat": 4,
 "nbformat_minor": 2
}
