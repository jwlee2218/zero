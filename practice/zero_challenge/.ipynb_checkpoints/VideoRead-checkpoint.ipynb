{
 "cells": [
  {
   "cell_type": "code",
   "execution_count": 52,
   "metadata": {},
   "outputs": [],
   "source": [
    "# import opencv module\n",
    "import cv2\n",
    "from matplotlib import pyplot as plt\n",
    "import numpy as np\n",
    "import copy\n",
    "\n",
    "# For interactive python:\n",
    "%matplotlib inline  "
   ]
  },
  {
   "cell_type": "code",
   "execution_count": 53,
   "metadata": {},
   "outputs": [],
   "source": [
    "cap = cv2.VideoCapture('video.MOV')\n",
    "# cap = cv2.VideoCapture(0)\n",
    "\n",
    "## VideoWrite (혹은 XVID) 는 BGR format만 저장 가능하다\n",
    "fourcc = cv2.VideoWriter_fourcc(*'XVID')\n",
    "out = cv2.VideoWriter('output.avi', fourcc, 25.0,(1080,1920))\n",
    "\n",
    "white_low = np.array([[[100, 100, 200]]])\n",
    "white_high = np.array([[[255, 255, 255]]])\n"
   ]
  },
  {
   "cell_type": "code",
   "execution_count": 54,
   "metadata": {},
   "outputs": [],
   "source": [
    "while True:\n",
    "    ret,frame = cap.read()\n",
    "    if ret:\n",
    "#         frame = cv2.bilateralFilter(frame,9,25,75)\n",
    "        gray=cv2.cvtColor(frame,cv2.COLOR_RGB2GRAY)\n",
    "        img_hsv = cv2.cvtColor(frame, cv2.COLOR_RGB2HSV)\n",
    "        \n",
    "        s_channel=img_hsv[:,:,2]\n",
    "        yellow_mask = cv2.inRange(img_hsv, yellow_low, yellow_high)\n",
    "        color_mask = cv2.bitwise_and(frame,frame, mask=yellow_mask)\n",
    "\n",
    "        cv2.namedWindow('original', cv2.WINDOW_NORMAL)\n",
    "        out.write(frame)\n",
    "        cv2.imshow('original', color_mask)\n",
    "        c=cv2.waitKey(1)\n",
    "        if c == 27:\n",
    "            break\n",
    "#         if cv2.waitKey(1) & 0xFF == ord('q'):\n",
    "#             break\n",
    "    else:\n",
    "        break\n",
    "\n",
    "cap.release()\n",
    "out.release()\n",
    "cv2.destroyAllWindows()"
   ]
  },
  {
   "cell_type": "code",
   "execution_count": 38,
   "metadata": {},
   "outputs": [
    {
     "data": {
      "text/plain": [
       "<matplotlib.image.AxesImage at 0x7efc595e9f60>"
      ]
     },
     "execution_count": 38,
     "metadata": {},
     "output_type": "execute_result"
    },
    {
     "data": {
      "image/png": "[encoded data removed]",
      "text/plain": [
       "<Figure size 432x288 with 1 Axes>"
      ]
     },
     "metadata": {},
     "output_type": "display_data"
    }
   ],
   "source": [
    "plt.imshow(s_binary)"
   ]
  },
  {
   "cell_type": "code",
   "execution_count": 14,
   "metadata": {},
   "outputs": [
    {
     "data": {
      "text/plain": [
       "(1080, 1920, 3)"
      ]
     },
     "execution_count": 14,
     "metadata": {},
     "output_type": "execute_result"
    }
   ],
   "source": [
    "frame.shape"
   ]
  },
  {
   "cell_type": "code",
   "execution_count": 65,
   "metadata": {},
   "outputs": [
    {
     "data": {
      "text/plain": [
       "(1080, 1920)"
      ]
     },
     "execution_count": 65,
     "metadata": {},
     "output_type": "execute_result"
    }
   ],
   "source": [
    "s_channel.shape"
   ]
  },
  {
   "cell_type": "code",
   "execution_count": null,
   "metadata": {},
   "outputs": [],
   "source": []
  }
 ],
 "metadata": {
  "kernelspec": {
   "display_name": "Python 3",
   "language": "python",
   "name": "python3"
  },
  "language_info": {
   "codemirror_mode": {
    "name": "ipython",
    "version": 3
   },
   "file_extension": ".py",
   "mimetype": "text/x-python",
   "name": "python",
   "nbconvert_exporter": "python",
   "pygments_lexer": "ipython3",
   "version": "3.5.2"
  }
 },
 "nbformat": 4,
 "nbformat_minor": 2
}
