{
 "cells": [
  {
   "cell_type": "code",
   "execution_count": 9,
   "metadata": {},
   "outputs": [],
   "source": [
    "import random\n",
    "import numpy as np\n",
    "import cv2\n",
    "\n",
    "lab_boundaries = [([190, 120, 138], [240, 138, 177])]\n",
    "[(lower,upper)] = lab_boundaries\n",
    "lower = np.array(lower, dtype=\"uint8\")\n",
    "upper = np.array(upper, dtype=\"uint8\")\n",
    "\n",
    "\n",
    "\n",
    "def main():\n",
    "    \"\"\"main fuction\n",
    "    \"\"\"\n",
    "    i = 0\n",
    "    while i < 100:\n",
    "        fname = 'day2_lane1/' + str(i) + '.jpg'\n",
    "        original = cv2.imread(fname, cv2.IMREAD_COLOR)\n",
    "        lab_image = cv2.cvtColor(original, cv2.COLOR_BGR2LAB)\n",
    "\n",
    "        mask = cv2.inRange(lab_image, lower, upper)\n",
    "        output = cv2.bitwise_and(lab_image, lab_image, mask=mask)\n",
    "\n",
    "            # show the images\n",
    "        image_name = str(i)\n",
    "        cv2.imshow(\"lab \" + \" \" + str(i),\n",
    "                    np.hstack([original, output]))\n",
    "        i = i+1\n",
    "        c=cv2.waitKey(0)\n",
    "        cv2.destroyAllWindows()\n",
    "\n",
    "#cv2.imshow(fname, original)\n",
    "\n",
    "# define the list of boundaries\n",
    "# hsv_boundaries = [\n",
    "#     ([0, 70, 70], [120, 255, 255])\n",
    "# ]\n",
    "\n",
    "# loop over the boundaries\n",
    "# for (lower, upper) in hsv_boundaries:\n",
    "#     # create NumPy arrays from the boundaries\n",
    "#     lower = np.array(lower, dtype=\"uint8\")\n",
    "#     upper = np.array(upper, dtype=\"uint8\")\n",
    "\n",
    "#     # find the colors within the specified boundaries and apply\n",
    "#     # the mask\n",
    "#     mask = cv2.inRange(hsv_image, lower, upper)\n",
    "#     output = cv2.bitwise_and(hsv_image, hsv_image, mask=mask)\n",
    "\n",
    "#     # show the images\n",
    "#     image_name = str(lower) + ' to ' + str(upper)\n",
    "#     cv2.imshow(\"hsv \" + image_name, np.hstack([original, output]))\n",
    "\n",
    "#     cv2.waitKey(0)\n",
    "\n",
    "\n",
    "if __name__ == '__main__':\n",
    "    main()"
   ]
  },
  {
   "cell_type": "code",
   "execution_count": 3,
   "metadata": {},
   "outputs": [
    {
     "data": {
      "text/plain": [
       "'0'"
      ]
     },
     "execution_count": 3,
     "metadata": {},
     "output_type": "execute_result"
    }
   ],
   "source": [
    "i = 0\n",
    "str(i)"
   ]
  },
  {
   "cell_type": "code",
   "execution_count": 6,
   "metadata": {},
   "outputs": [
    {
     "data": {
      "text/plain": [
       "array([240, 138, 177], dtype=uint8)"
      ]
     },
     "execution_count": 6,
     "metadata": {},
     "output_type": "execute_result"
    }
   ],
   "source": [
    "upper"
   ]
  },
  {
   "cell_type": "code",
   "execution_count": null,
   "metadata": {},
   "outputs": [],
   "source": []
  }
 ],
 "metadata": {
  "kernelspec": {
   "display_name": "Python 3",
   "language": "python",
   "name": "python3"
  },
  "language_info": {
   "codemirror_mode": {
    "name": "ipython",
    "version": 3
   },
   "file_extension": ".py",
   "mimetype": "text/x-python",
   "name": "python",
   "nbconvert_exporter": "python",
   "pygments_lexer": "ipython3",
   "version": "3.5.2"
  }
 },
 "nbformat": 4,
 "nbformat_minor": 2
}
