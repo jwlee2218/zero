{
 "cells": [
  {
   "cell_type": "code",
   "execution_count": 15,
   "metadata": {},
   "outputs": [],
   "source": [
    "import random\n",
    "import numpy as np\n",
    "from matplotlib import pyplot as plt\n",
    "import cv2\n",
    "import copy\n",
    "\n",
    "lab_boundaries = [([190, 120, 138], [240, 138, 177])]\n",
    "[(lower,upper)] = lab_boundaries\n",
    "lower = np.array(lower, dtype=\"uint8\")\n",
    "upper = np.array(upper, dtype=\"uint8\")\n",
    "\n",
    "fourcc = cv2.VideoWriter_fourcc(*'XVID')\n",
    "\n",
    "cap = cv2.VideoCapture('day2_lane1/0.jpg')\n",
    "frame_width = int( cap.get(cv2.CAP_PROP_FRAME_WIDTH))\n",
    "frame_height =int( cap.get( cv2.CAP_PROP_FRAME_HEIGHT))\n",
    "out = cv2.VideoWriter('test.avi', fourcc, 30.0,(frame_width,frame_height))\n",
    "out2 = cv2.VideoWriter('fittest3.avi', fourcc, 30.0,(frame_width,frame_height))\n",
    "\n",
    "bounds = [300, 600]"
   ]
  },
  {
   "cell_type": "code",
   "execution_count": 11,
   "metadata": {},
   "outputs": [],
   "source": [
    "def find_first(item, vec):\n",
    "    \"\"\"return the index of the first occurence of item in vec\"\"\"\n",
    "    for i in range(len(vec)):\n",
    "        if item == vec[i]:\n",
    "            return i\n",
    "    return -1"
   ]
  },
  {
   "cell_type": "code",
   "execution_count": 127,
   "metadata": {},
   "outputs": [],
   "source": [
    "fname = 'day2_lane1/153.jpg'\n",
    "blank=np.zeros((frame_height,frame_width,3),np.uint8)\n",
    "original = cv2.imread(fname, cv2.IMREAD_COLOR)\n",
    "filtered = copy.deepcopy(original)\n",
    "filtered = cv2.bilateralFilter(filtered,9,75,75)\n",
    "        \n",
    "lab_image = cv2.cvtColor(filtered, cv2.COLOR_BGR2LAB)\n",
    "\n",
    "mask = cv2.inRange(lab_image, lower, upper)\n",
    "output = cv2.bitwise_and(lab_image, lab_image, mask=mask)\n",
    "        \n",
    "canny = copy.deepcopy(output)     \n",
    "canny = cv2.Canny(canny,100,200)     \n",
    "              \n",
    "window = canny[bounds[1]:bounds[0]:-1].transpose()\n",
    "xy = []\n",
    "for k in range(len(window)):\n",
    "    col = window[k]\n",
    "    j = find_first(255, col)\n",
    "    if j != -1:\n",
    "        xy.extend((k, j))\n",
    "# Reshape into [[x1, y1],...]\n",
    "data = np.array(xy).reshape((-1, 2))\n",
    "# Translate points back to original positions.\n",
    "data[:, 1] = bounds[1] - data[:, 1]\n",
    "pts = data.reshape((-1, 1, 2)) \n",
    "        \n",
    "xdata = data[:,0]\n",
    "ydata = data[:,1]\n",
    "        \n",
    "z = np.polyfit(xdata,ydata,3)\n",
    "oneD = np.polyfit(xdata,ydata,1)\n",
    "oned = np.poly1d(oneD)\n",
    "onedcoef = oned.c[0]\n",
    "orthoned = -1/onedcoef\n",
    "        \n",
    "f = np.poly1d(z)\n",
    "        \n",
    "fitxy = []\n",
    "for n in range(bounds[1]):\n",
    "    xfit = n\n",
    "    yfit = int(f(n))\n",
    "    fitxy.append([xfit,yfit])\n",
    "fitxy = np.array(fitxy).reshape((-1,2))\n",
    "\n",
    "fitpts = fitxy.reshape((-1,1,2))\n",
    "        \n",
    "output2 = cv2.polylines(original, [fitpts], isClosed=False, color=(255,0,0))"
   ]
  },
  {
   "cell_type": "code",
   "execution_count": 128,
   "metadata": {},
   "outputs": [],
   "source": [
    "output3 = cv2.polylines(blank, [fitpts], isClosed=False, color=(255,0,0))"
   ]
  },
  {
   "cell_type": "code",
   "execution_count": 129,
   "metadata": {},
   "outputs": [
    {
     "data": {
      "text/plain": [
       "-0.018421663733719534"
      ]
     },
     "execution_count": 129,
     "metadata": {},
     "output_type": "execute_result"
    }
   ],
   "source": [
    "onedcoef"
   ]
  },
  {
   "cell_type": "code",
   "execution_count": 130,
   "metadata": {},
   "outputs": [
    {
     "data": {
      "text/plain": [
       "54.28391346486103"
      ]
     },
     "execution_count": 130,
     "metadata": {},
     "output_type": "execute_result"
    }
   ],
   "source": [
    "orthoned"
   ]
  },
  {
   "cell_type": "code",
   "execution_count": 131,
   "metadata": {},
   "outputs": [],
   "source": [
    "right=onedcoef\n",
    "left=right*orthoned*260"
   ]
  },
  {
   "cell_type": "code",
   "execution_count": 132,
   "metadata": {},
   "outputs": [],
   "source": [
    "rows,cols,depth = original.shape\n",
    "\n",
    "M = np.float32([[1,0,right],[0,1,left]])\n",
    "output4 = cv2.warpAffine(output3,M,(cols,rows))"
   ]
  },
  {
   "cell_type": "code",
   "execution_count": 133,
   "metadata": {},
   "outputs": [],
   "source": [
    "cv2.imshow('out',output4)\n",
    "cv2.waitKey(0)\n",
    "cv2.destroyAllWindows()"
   ]
  },
  {
   "cell_type": "code",
   "execution_count": 134,
   "metadata": {},
   "outputs": [],
   "source": [
    "canny4 = cv2.Canny(output4,100,200)\n",
    "              \n",
    "window2 = canny4[bounds[1]:0:-1].transpose()\n",
    "xy2 = []\n",
    "for k in range(len(window2)):\n",
    "    col = window2[k]\n",
    "    j = find_first(255, col)\n",
    "    if j != -1:\n",
    "        xy2.extend((k, j))\n",
    "# Reshape into [[x1, y1],...]\n",
    "data2 = np.array(xy2).reshape((-1, 2))\n",
    "# Translate points back to original positions.\n",
    "\n",
    "data2[:, 1] = bounds[1] - data2[:, 1]\n",
    "pts2 = data2.reshape((-1, 1, 2)) \n",
    "        \n",
    "xdata2 = data2[:,0]\n",
    "ydata2 = data2[:,1]\n",
    "        \n",
    "z2 = np.polyfit(xdata2,ydata2,3)\n",
    "        \n",
    "f2 = np.poly1d(z2)\n",
    "        \n",
    "fitxy2 = []\n",
    "for n in range(bounds[1]):\n",
    "    xfit = n\n",
    "    yfit = int(f2(n))\n",
    "    fitxy2.append([xfit,yfit])\n",
    "fitxy2 = np.array(fitxy2).reshape((-1,2))\n",
    "\n",
    "fitpts2 = fitxy2.reshape((-1,1,2))"
   ]
  },
  {
   "cell_type": "code",
   "execution_count": 135,
   "metadata": {},
   "outputs": [],
   "source": [
    "output5= cv2.polylines(output2, [fitpts2], isClosed=False, color=(255,255,0))"
   ]
  },
  {
   "cell_type": "code",
   "execution_count": 136,
   "metadata": {},
   "outputs": [],
   "source": [
    "cv2.imshow('out',output5)\n",
    "cv2.waitKey(0)\n",
    "cv2.destroyAllWindows()"
   ]
  },
  {
   "cell_type": "code",
   "execution_count": 14,
   "metadata": {},
   "outputs": [],
   "source": [
    "def main():\n",
    "    \"\"\"main fuction\n",
    "    \"\"\"\n",
    "    i = 0\n",
    "    while i < 10:\n",
    "        fname = 'day2_lane1/' + str(i) + '.jpg'\n",
    "        blank=np.zeros((height,width,3),np.uint8)\n",
    "        \n",
    "        original = cv2.imread(fname, cv2.IMREAD_COLOR)\n",
    "        filtered = copy.deepcopy(original)\n",
    "        filtered = cv2.bilateralFilter(filtered,9,75,75)\n",
    "        \n",
    "        lab_image = cv2.cvtColor(filtered, cv2.COLOR_BGR2LAB)\n",
    "\n",
    "        mask = cv2.inRange(lab_image, lower, upper)\n",
    "        output = cv2.bitwise_and(lab_image, lab_image, mask=mask)\n",
    "        \n",
    "        canny = copy.deepcopy(output)     \n",
    "        canny = cv2.Canny(canny,100,200)     \n",
    "              \n",
    "        window = canny[bounds[1]:bounds[0]:-1].transpose()\n",
    "        xy = []\n",
    "        for k in range(len(window)):\n",
    "            col = window[k]\n",
    "            j = find_first(255, col)\n",
    "            if j != -1:\n",
    "                xy.extend((k, j))\n",
    "        # Reshape into [[x1, y1],...]\n",
    "        data = np.array(xy).reshape((-1, 2))\n",
    "        # Translate points back to original positions.\n",
    "        data[:, 1] = bounds[1] - data[:, 1]\n",
    "        pts = data.reshape((-1, 1, 2)) \n",
    "        \n",
    "        xdata = data[:,0]\n",
    "        ydata = data[:,1]\n",
    "        \n",
    "        z = np.polyfit(xdata,ydata,3)\n",
    "        oneD = np.polyfit(xdata,ydata,1)\n",
    "        oned = np.poly1d(oneD)\n",
    "        onedcoef = oned.c[0]\n",
    "        orthoned = -1/onedcoef\n",
    "        \n",
    "        f = np.poly1d(z)\n",
    "        \n",
    "        fitxy = []\n",
    "        for n in range(bounds[1]):\n",
    "            xfit = n\n",
    "            yfit = int(f(n))\n",
    "            fitxy.append([xfit,yfit])\n",
    "        fitxy = np.array(fitxy).reshape((-1,2))\n",
    "\n",
    "        fitpts = fitxy.reshape((-1,1,2))\n",
    "        \n",
    "        output2 = cv2.polylines(original, [fitpts], isClosed=False, color=(255,0,0))\n",
    "\n",
    "        out2.write(output2)\n",
    "        i = i+1\n",
    "        print(i)\n",
    "#         c=cv2.waitKey(0)\n",
    "        \n",
    "#     cv2.destroyAllWindows()\n",
    "#     out.release()\n",
    "    out2.release()"
   ]
  },
  {
   "cell_type": "code",
   "execution_count": 19,
   "metadata": {},
   "outputs": [
    {
     "name": "stdout",
     "output_type": "stream",
     "text": [
      "1\n",
      "2\n",
      "3\n",
      "4\n",
      "5\n",
      "6\n",
      "7\n",
      "8\n",
      "9\n",
      "10\n"
     ]
    }
   ],
   "source": [
    "if __name__ == '__main__':\n",
    "    main()"
   ]
  },
  {
   "cell_type": "code",
   "execution_count": 9,
   "metadata": {},
   "outputs": [
    {
     "name": "stdout",
     "output_type": "stream",
     "text": [
      "221.37072977247917\n"
     ]
    }
   ],
   "source": [
    "a = np.array([1, 2])\n",
    "b = np.array([100,200])\n",
    "print(np.linalg.norm(a-b))"
   ]
  },
  {
   "cell_type": "code",
   "execution_count": 7,
   "metadata": {},
   "outputs": [
    {
     "data": {
      "text/plain": [
       "2"
      ]
     },
     "execution_count": 7,
     "metadata": {},
     "output_type": "execute_result"
    }
   ],
   "source": [
    "n= 1.04\n",
    "a = int(2*n)\n",
    "a"
   ]
  },
  {
   "cell_type": "code",
   "execution_count": 10,
   "metadata": {},
   "outputs": [],
   "source": [
    "aa = a[0]"
   ]
  },
  {
   "cell_type": "code",
   "execution_count": 11,
   "metadata": {},
   "outputs": [
    {
     "ename": "NameError",
     "evalue": "name 'yfit' is not defined",
     "output_type": "error",
     "traceback": [
      "\u001b[0;31m---------------------------------------------------------------------------\u001b[0m",
      "\u001b[0;31mNameError\u001b[0m                                 Traceback (most recent call last)",
      "\u001b[0;32m<ipython-input-11-4df91ff28e61>\u001b[0m in \u001b[0;36m<module>\u001b[0;34m()\u001b[0m\n\u001b[1;32m      1\u001b[0m \u001b[0morthoaa\u001b[0m \u001b[0;34m=\u001b[0m \u001b[0;34m-\u001b[0m\u001b[0;36m1\u001b[0m\u001b[0;34m/\u001b[0m\u001b[0maa\u001b[0m\u001b[0;34m\u001b[0m\u001b[0m\n\u001b[0;32m----> 2\u001b[0;31m \u001b[0mplot\u001b[0m \u001b[0;34m=\u001b[0m \u001b[0mnp\u001b[0m\u001b[0;34m.\u001b[0m\u001b[0mpoly1d\u001b[0m\u001b[0;34m(\u001b[0m\u001b[0;34m[\u001b[0m\u001b[0morthoaa\u001b[0m\u001b[0;34m,\u001b[0m \u001b[0myfit\u001b[0m \u001b[0;34m+\u001b[0m\u001b[0;36m1\u001b[0m\u001b[0;34m/\u001b[0m\u001b[0maa\u001b[0m\u001b[0;34m*\u001b[0m\u001b[0mxfit\u001b[0m\u001b[0;34m]\u001b[0m\u001b[0;34m)\u001b[0m\u001b[0;34m\u001b[0m\u001b[0m\n\u001b[0m\u001b[1;32m      3\u001b[0m \u001b[0mplotdot\u001b[0m \u001b[0;34m=\u001b[0m \u001b[0;34m[\u001b[0m\u001b[0;34m]\u001b[0m\u001b[0;34m\u001b[0m\u001b[0m\n\u001b[1;32m      4\u001b[0m \u001b[0;32mfor\u001b[0m \u001b[0mq\u001b[0m \u001b[0;32min\u001b[0m \u001b[0mrange\u001b[0m\u001b[0;34m(\u001b[0m\u001b[0mbounds\u001b[0m\u001b[0;34m[\u001b[0m\u001b[0;36m1\u001b[0m\u001b[0;34m]\u001b[0m\u001b[0;34m)\u001b[0m\u001b[0;34m:\u001b[0m\u001b[0;34m\u001b[0m\u001b[0m\n\u001b[1;32m      5\u001b[0m     \u001b[0mxdot\u001b[0m \u001b[0;34m=\u001b[0m \u001b[0mnp\u001b[0m\u001b[0;34m.\u001b[0m\u001b[0marray\u001b[0m\u001b[0;34m(\u001b[0m\u001b[0mq\u001b[0m\u001b[0;34m,\u001b[0m \u001b[0mplot\u001b[0m\u001b[0;34m(\u001b[0m\u001b[0mq\u001b[0m\u001b[0;34m)\u001b[0m\u001b[0;34m)\u001b[0m\u001b[0;34m\u001b[0m\u001b[0m\n",
      "\u001b[0;31mNameError\u001b[0m: name 'yfit' is not defined"
     ]
    }
   ],
   "source": [
    "orthoaa = -1/aa\n",
    "plot = np.poly1d([orthoaa, yfit +1/aa*xfit])\n",
    "plotdot = []\n",
    "for q in range(bounds[1]):\n",
    "    xdot = np.array(q, plot(q))\n",
    "    ydot = np.array(n, f(n))\n",
    "    if np.linalg.norm(xdot-ydot) == 250:\n",
    "        plotdot.append([q,plot(q)])"
   ]
  },
  {
   "cell_type": "code",
   "execution_count": 13,
   "metadata": {},
   "outputs": [
    {
     "name": "stdout",
     "output_type": "stream",
     "text": [
      "[0, 1, 2, 3, 4, 5, 6, 7, 8, 9]\n"
     ]
    }
   ],
   "source": [
    "xy = []\n",
    "for i in range(10):\n",
    "    xy.append(i)\n",
    "print(xy)"
   ]
  },
  {
   "cell_type": "code",
   "execution_count": 14,
   "metadata": {},
   "outputs": [
    {
     "name": "stdout",
     "output_type": "stream",
     "text": [
      "   2\n",
      "1 x + 2 x + 3\n"
     ]
    }
   ],
   "source": [
    "qwerty= np.poly1d([1, 2, 3])\n",
    "print(np.poly1d(qwerty))"
   ]
  },
  {
   "cell_type": "code",
   "execution_count": 4,
   "metadata": {},
   "outputs": [],
   "source": [
    "a=9\n",
    "M= np.float32([1,0,a])"
   ]
  },
  {
   "cell_type": "code",
   "execution_count": 5,
   "metadata": {},
   "outputs": [
    {
     "data": {
      "text/plain": [
       "array([1., 0., 9.], dtype=float32)"
      ]
     },
     "execution_count": 5,
     "metadata": {},
     "output_type": "execute_result"
    }
   ],
   "source": [
    "M"
   ]
  },
  {
   "cell_type": "code",
   "execution_count": null,
   "metadata": {},
   "outputs": [],
   "source": []
  }
 ],
 "metadata": {
  "kernelspec": {
   "display_name": "Python 3",
   "language": "python",
   "name": "python3"
  },
  "language_info": {
   "codemirror_mode": {
    "name": "ipython",
    "version": 3
   },
   "file_extension": ".py",
   "mimetype": "text/x-python",
   "name": "python",
   "nbconvert_exporter": "python",
   "pygments_lexer": "ipython3",
   "version": "3.5.2"
  }
 },
 "nbformat": 4,
 "nbformat_minor": 2
}
