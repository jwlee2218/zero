{
 "cells": [
  {
   "cell_type": "code",
   "execution_count": 4,
   "metadata": {},
   "outputs": [],
   "source": [
    "import random\n",
    "import numpy as np\n",
    "import cv2\n",
    "import copy\n",
    "\n",
    "lab_boundaries = [([190, 120, 138], [240, 138, 177])]\n",
    "[(lower,upper)] = lab_boundaries\n",
    "lower = np.array(lower, dtype=\"uint8\")\n",
    "upper = np.array(upper, dtype=\"uint8\")\n",
    "\n",
    "fourcc = cv2.VideoWriter_fourcc(*'XVID')\n",
    "\n",
    "cap = cv2.VideoCapture('day2_lane1/0.jpg')\n",
    "frame_width = int( cap.get(cv2.CAP_PROP_FRAME_WIDTH))\n",
    "frame_height =int( cap.get( cv2.CAP_PROP_FRAME_HEIGHT))\n",
    "out = cv2.VideoWriter('test.avi', fourcc, 30.0,(frame_width,frame_height))\n",
    "out2 = cv2.VideoWriter('test2.avi', fourcc, 30.0,(frame_width,frame_height))\n",
    "\n",
    "bounds = [300, 600]"
   ]
  },
  {
   "cell_type": "code",
   "execution_count": 5,
   "metadata": {},
   "outputs": [],
   "source": [
    "def find_first(item, vec):\n",
    "    \"\"\"return the index of the first occurence of item in vec\"\"\"\n",
    "    for i in range(len(vec)):\n",
    "        if item == vec[i]:\n",
    "            return i\n",
    "    return -1"
   ]
  },
  {
   "cell_type": "code",
   "execution_count": 6,
   "metadata": {},
   "outputs": [],
   "source": [
    "def main():\n",
    "    \"\"\"main fuction\n",
    "    \"\"\"\n",
    "    i = 0\n",
    "    while i < 1000:\n",
    "        fname = 'day2_lane1/' + str(i) + '.jpg'\n",
    "        \n",
    "        original = cv2.imread(fname, cv2.IMREAD_COLOR)\n",
    "        filtered = copy.deepcopy(original)\n",
    "        filtered = cv2.bilateralFilter(filtered,3,75,75)\n",
    "        \n",
    "        lab_image = cv2.cvtColor(filtered, cv2.COLOR_BGR2LAB)\n",
    "\n",
    "        mask = cv2.inRange(lab_image, lower, upper)\n",
    "        output = cv2.bitwise_and(lab_image, lab_image, mask=mask)\n",
    "        \n",
    "        canny = copy.deepcopy(output)     \n",
    "        canny = cv2.Canny(canny,100,200)     \n",
    "              \n",
    "        window = canny[bounds[1]:bounds[0]:-1].transpose()\n",
    "        xy = []\n",
    "        for k in range(len(window)):\n",
    "            col = window[k]\n",
    "            j = find_first(255, col)\n",
    "            if j != -1:\n",
    "                xy.extend((k, j))\n",
    "        # Reshape into [[x1, y1],...]\n",
    "        data = np.array(xy).reshape((-1, 2))\n",
    "        # Translate points back to original positions.\n",
    "        data[:, 1] = bounds[1] - data[:, 1]\n",
    "        pts = data.reshape((-1, 1, 2)) \n",
    "        \n",
    "        output2 = cv2.polylines(original, [pts], isClosed=False, color=(255,0,0))\n",
    "\n",
    "        out.write(output)\n",
    "        out2.write(output2)\n",
    "        i = i+1\n",
    "#         c=cv2.waitKey(0)\n",
    "        \n",
    "#     cv2.destroyAllWindows()\n",
    "    out.release()\n",
    "    out2.release()"
   ]
  },
  {
   "cell_type": "code",
   "execution_count": 7,
   "metadata": {},
   "outputs": [],
   "source": [
    "if __name__ == '__main__':\n",
    "    main()"
   ]
  },
  {
   "cell_type": "code",
   "execution_count": null,
   "metadata": {},
   "outputs": [],
   "source": []
  }
 ],
 "metadata": {
  "kernelspec": {
   "display_name": "Python 3",
   "language": "python",
   "name": "python3"
  },
  "language_info": {
   "codemirror_mode": {
    "name": "ipython",
    "version": 3
   },
   "file_extension": ".py",
   "mimetype": "text/x-python",
   "name": "python",
   "nbconvert_exporter": "python",
   "pygments_lexer": "ipython3",
   "version": "3.5.2"
  }
 },
 "nbformat": 4,
 "nbformat_minor": 2
}
