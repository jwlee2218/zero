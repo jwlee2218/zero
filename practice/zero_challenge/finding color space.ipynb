{
 "cells": [
  {
   "cell_type": "code",
   "execution_count": 5,
   "metadata": {},
   "outputs": [
    {
     "name": "stdout",
     "output_type": "stream",
     "text": [
      "(194, 134, 160)\n",
      "(191, 133, 162)\n",
      "(118, 131, 146)\n",
      "(185, 130, 146)\n",
      "(188, 133, 157)\n",
      "(128, 132, 135)\n",
      "(145, 133, 137)\n",
      "(199, 130, 152)\n",
      "(143, 134, 130)\n",
      "(148, 133, 128)\n",
      "(146, 132, 131)\n"
     ]
    }
   ],
   "source": [
    "import cv2\n",
    "\n",
    "picture_num = 2740  # random.randrange(0, 2990)\n",
    "# fname = '/day2_lane1/' + str(picture_num) + '.jpg'\n",
    "fname = 'day2_lane1/1.jpg'\n",
    "original = cv2.imread(fname, cv2.IMREAD_COLOR)\n",
    "hsv_image = cv2.cvtColor(original, cv2.COLOR_BGR2HSV)\n",
    "lab_image = cv2.cvtColor(original, cv2.COLOR_BGR2LAB)\n",
    "\n",
    "\n",
    "def click(event, x, y, flags, param):\n",
    "    \"\"\"Onclick event\n",
    "    \"\"\"\n",
    "\n",
    "    if event == cv2.EVENT_LBUTTONDOWN:\n",
    "        pixel = lab_image[y, x]\n",
    "        color = pixel\n",
    "        print (tuple(pixel))  # i tried converting to a tuple\n",
    "        return color\n",
    "\n",
    "\n",
    "def main():\n",
    "    \"\"\"main fuction\n",
    "    \"\"\"\n",
    "\n",
    "    cv2.imshow(\"window\", lab_image)\n",
    "    cv2.namedWindow(\"window\")\n",
    "    cv2.setMouseCallback(\"window\", click)\n",
    "\n",
    "    cv2.waitKey(0)\n",
    "    cv2.destroyAllWindows()\n",
    "\n",
    "\n",
    "if __name__ == '__main__':\n",
    "    main()"
   ]
  },
  {
   "cell_type": "code",
   "execution_count": null,
   "metadata": {},
   "outputs": [],
   "source": []
  }
 ],
 "metadata": {
  "kernelspec": {
   "display_name": "Python 3",
   "language": "python",
   "name": "python3"
  },
  "language_info": {
   "codemirror_mode": {
    "name": "ipython",
    "version": 3
   },
   "file_extension": ".py",
   "mimetype": "text/x-python",
   "name": "python",
   "nbconvert_exporter": "python",
   "pygments_lexer": "ipython3",
   "version": "3.5.2"
  }
 },
 "nbformat": 4,
 "nbformat_minor": 2
}
