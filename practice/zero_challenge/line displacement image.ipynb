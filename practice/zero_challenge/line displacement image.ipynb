{
 "cells": [
  {
   "cell_type": "code",
   "execution_count": 15,
   "metadata": {},
   "outputs": [],
   "source": [
    "import random\n",
    "import numpy as np\n",
    "from matplotlib import pyplot as plt\n",
    "import cv2\n",
    "import copy\n",
    "\n",
    "lab_boundaries = [([190, 120, 138], [240, 138, 177])]\n",
    "[(lower,upper)] = lab_boundaries\n",
    "lower = np.array(lower, dtype=\"uint8\")\n",
    "upper = np.array(upper, dtype=\"uint8\")\n",
    "\n",
    "fourcc = cv2.VideoWriter_fourcc(*'XVID')\n",
    "\n",
    "cap = cv2.VideoCapture('day2_lane1/0.jpg')\n",
    "frame_width = int( cap.get(cv2.CAP_PROP_FRAME_WIDTH))\n",
    "frame_height =int( cap.get( cv2.CAP_PROP_FRAME_HEIGHT))\n",
    "out = cv2.VideoWriter('test.avi', fourcc, 30.0,(frame_width,frame_height))\n",
    "out2 = cv2.VideoWriter('fittest3.avi', fourcc, 30.0,(frame_width,frame_height))\n",
    "\n",
    "bounds = [300, 600]"
   ]
  },
  {
   "cell_type": "code",
   "execution_count": 11,
   "metadata": {},
   "outputs": [],
   "source": [
    "def find_first(item, vec):\n",
    "    \"\"\"return the index of the first occurence of item in vec\"\"\"\n",
    "    for i in range(len(vec)):\n",
    "        if item == vec[i]:\n",
    "            return i\n",
    "    return -1"
   ]
  },
  {
   "cell_type": "code",
   "execution_count": 177,
   "metadata": {},
   "outputs": [],
   "source": [
    "fname = 'day2_lane1/120.jpg'\n",
    "blank=np.zeros((frame_height,frame_width,3),np.uint8)\n",
    "original = cv2.imread(fname, cv2.IMREAD_COLOR)\n",
    "filtered = copy.deepcopy(original)\n",
    "# filtered = cv2.bilateralFilter(filtered,9,75,75)\n",
    "        \n",
    "lab_image = cv2.cvtColor(filtered, cv2.COLOR_BGR2LAB)\n",
    "\n",
    "mask = cv2.inRange(lab_image, lower, upper)\n",
    "output = cv2.bitwise_and(lab_image, lab_image, mask=mask)\n",
    "        \n",
    "canny = copy.deepcopy(output)     \n",
    "canny = cv2.Canny(canny,100,200)     \n",
    "              \n",
    "window = canny[bounds[1]:bounds[0]:-1].transpose()\n",
    "xy = []\n",
    "for k in range(len(window)):\n",
    "    col = window[k]\n",
    "    j = find_first(255, col)\n",
    "    if j != -1:\n",
    "        xy.extend((k, j))\n",
    "# Reshape into [[x1, y1],...]\n",
    "data = np.array(xy).reshape((-1, 2))\n",
    "# Translate points back to original positions.\n",
    "data[:, 1] = bounds[1] - data[:, 1]\n",
    "pts = data.reshape((-1, 1, 2)) \n",
    "        \n",
    "xdata = data[:,0]\n",
    "ydata = data[:,1]\n",
    "        \n",
    "z = np.polyfit(xdata,ydata,3)\n",
    "oneD = np.polyfit(xdata,ydata,1)\n",
    "oned = np.poly1d(oneD)\n",
    "onedcoef = oned.c[0]\n",
    "orthoned = -1/onedcoef\n",
    "        \n",
    "f = np.poly1d(z)\n",
    "        \n",
    "fitxy = []\n",
    "for n in range(bounds[1]):\n",
    "    xfit = n\n",
    "    yfit = int(f(n))\n",
    "    fitxy.append([xfit,yfit])\n",
    "fitxy = np.array(fitxy).reshape((-1,2))\n",
    "\n",
    "fitpts = fitxy.reshape((-1,1,2))\n",
    "        \n",
    "output2 = cv2.polylines(original, [fitpts], isClosed=False, color=(255,0,0))"
   ]
  },
  {
   "cell_type": "code",
   "execution_count": 178,
   "metadata": {},
   "outputs": [],
   "source": [
    "output3 = cv2.polylines(blank, [fitpts], isClosed=False, color=(255,0,0))\n",
    "right=onedcoef\n",
    "left=right*orthoned*260\n",
    "rows,cols,depth = original.shape\n",
    "\n",
    "M = np.float32([[1,0,right],[0,1,left]])\n",
    "output4 = cv2.warpAffine(output3,M,(cols,rows))\n",
    "\n",
    "canny4 = cv2.Canny(output4,100,200)\n",
    "              \n",
    "window2 = canny4[bounds[1]:0:-1].transpose()\n",
    "xy2 = []\n",
    "for k in range(len(window2)):\n",
    "    col = window2[k]\n",
    "    j = find_first(255, col)\n",
    "    if j != -1:\n",
    "        xy2.extend((k, j))\n",
    "# Reshape into [[x1, y1],...]\n",
    "data2 = np.array(xy2).reshape((-1, 2))\n",
    "# Translate points back to original positions.\n",
    "\n",
    "data2[:, 1] = bounds[1] - data2[:, 1]\n",
    "pts2 = data2.reshape((-1, 1, 2)) \n",
    "        \n",
    "xdata2 = data2[:,0]\n",
    "ydata2 = data2[:,1]\n",
    "        \n",
    "z2 = np.polyfit(xdata2,ydata2,3)\n",
    "        \n",
    "f2 = np.poly1d(z2)\n",
    "        \n",
    "fitxy2 = []\n",
    "for n in range(bounds[1]):\n",
    "    xfit = n\n",
    "    yfit = int(f2(n))\n",
    "    fitxy2.append([xfit,yfit])\n",
    "fitxy2 = np.array(fitxy2).reshape((-1,2))\n",
    "\n",
    "fitpts2 = fitxy2.reshape((-1,1,2))\n",
    "output5= cv2.polylines(output2, [fitpts2], isClosed=False, color=(255,255,0))\n",
    "cv2.imshow('out',output5)\n",
    "cv2.waitKey(0)\n",
    "cv2.destroyAllWindows()"
   ]
  },
  {
   "cell_type": "code",
   "execution_count": 173,
   "metadata": {},
   "outputs": [
    {
     "data": {
      "text/plain": [
       "(600, 600, 3)"
      ]
     },
     "execution_count": 173,
     "metadata": {},
     "output_type": "execute_result"
    }
   ],
   "source": [
    "original.shape"
   ]
  },
  {
   "cell_type": "code",
   "execution_count": null,
   "metadata": {},
   "outputs": [],
   "source": []
  }
 ],
 "metadata": {
  "kernelspec": {
   "display_name": "Python 3",
   "language": "python",
   "name": "python3"
  },
  "language_info": {
   "codemirror_mode": {
    "name": "ipython",
    "version": 3
   },
   "file_extension": ".py",
   "mimetype": "text/x-python",
   "name": "python",
   "nbconvert_exporter": "python",
   "pygments_lexer": "ipython3",
   "version": "3.5.2"
  }
 },
 "nbformat": 4,
 "nbformat_minor": 2
}
